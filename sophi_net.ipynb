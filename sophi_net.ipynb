{
 "cells": [
  {
   "cell_type": "markdown",
   "metadata": {},
   "source": [
    "## A net more sophisticated than LeNet\n",
    "###  with cifar10 dataset"
   ]
  },
  {
   "cell_type": "code",
   "execution_count": 1,
   "metadata": {
    "collapsed": false
   },
   "outputs": [
    {
     "name": "stdout",
     "output_type": "stream",
     "text": [
      "Using matplotlib backend: TkAgg\n"
     ]
    }
   ],
   "source": [
    "% matplotlib"
   ]
  },
  {
   "cell_type": "code",
   "execution_count": 2,
   "metadata": {
    "collapsed": true
   },
   "outputs": [],
   "source": [
    "% matplotlib inline"
   ]
  },
  {
   "cell_type": "code",
   "execution_count": 3,
   "metadata": {
    "collapsed": false
   },
   "outputs": [
    {
     "name": "stderr",
     "output_type": "stream",
     "text": [
      "Using TensorFlow backend.\n"
     ]
    },
    {
     "name": "stdout",
     "output_type": "stream",
     "text": [
      "X_train shape: (50000, 32, 32, 3)\n",
      "Y_train shape: (50000, 10)\n",
      "dim(data) (10000, 3072)\n",
      "dim(labels) (10000,)\n",
      "X_test shape: (10000, 32, 32, 3)\n",
      "Y_test shape: (10000, 10)\n"
     ]
    }
   ],
   "source": [
    "# coding=utf-8\n",
    "# libraries & packages\n",
    "import numpy\n",
    "import math\n",
    "import sys\n",
    "from os import listdir\n",
    "from os.path import isfile, join\n",
    "from keras.utils import np_utils\n",
    "\n",
    "# this function is provided from the official site\n",
    "def unpickle(file):\n",
    "    import cPickle\n",
    "    fo = open(file, 'rb')\n",
    "    dict = cPickle.load(fo)\n",
    "    fo.close()\n",
    "    return dict\n",
    "\n",
    "# from PIL import Image\n",
    "# def ndarray2image (arr_data, image_fn):\n",
    "#     img = Image.fromarray(arr_data, 'RGB')\n",
    "#     img.save(image_fn)\n",
    "\n",
    "from scipy.misc import imsave\n",
    "def ndarray2image (arr_data, image_fn):\n",
    "    imsave(image_fn, arr_data)\n",
    "\n",
    "# set dataset path\n",
    "dataset_path = './cifar_10/'\n",
    "\n",
    "# define the information of images which can be obtained from official website\n",
    "height, width, dim = 32, 32, 3\n",
    "classes = 10\n",
    "\n",
    "''' read training data '''\n",
    "# get the file names which start with \"data_batch\" (training data)\n",
    "train_fns = [fn for fn in listdir(dataset_path) if isfile(join(dataset_path, fn)) &\n",
    "             fn.startswith(\"data_batch\")]\n",
    "# list sorting\n",
    "train_fns.sort()\n",
    "\n",
    "# make a glace about the training data\n",
    "fn = train_fns[0]\n",
    "raw_data = unpickle(dataset_path + fn)\n",
    "\n",
    "# type of raw data\n",
    "type(raw_data)\n",
    "# output <type 'dict'>\n",
    "\n",
    "# check keys of training data\n",
    "raw_data_keys = raw_data.keys()\n",
    "# output ['data', 'labels', 'batch_label', 'filenames']\n",
    "\n",
    "# check dimensions of ['data']\n",
    "raw_data['data'].shape\n",
    "# (10000, 3072)\n",
    "\n",
    "# concatenate pixel (px) data into one ndarray [img_px_values]\n",
    "# concatenate label data into one ndarray [img_lab]\n",
    "img_px_values = 0\n",
    "img_lab = 0\n",
    "for fn in train_fns:\n",
    "    raw_data = unpickle(dataset_path + fn)\n",
    "    if fn == train_fns[0]:\n",
    "        img_px_values = raw_data['data']\n",
    "        img_lab = raw_data['labels']\n",
    "    else:\n",
    "        img_px_values = numpy.vstack((img_px_values, raw_data['data']))\n",
    "        img_lab = numpy.hstack((img_lab, raw_data['labels']))\n",
    "\n",
    "# convert 1d-ndarray (0:3072) to 3d-ndarray(32,32,3)\n",
    "X_train = numpy.asarray([numpy.dstack((r[0:(width*height)].reshape(height,width),\n",
    "                                       r[(width*height):(2*width*height)].reshape(height,width),\n",
    "                                       r[(2*width*height):(3*width*height)].reshape(height,width)\n",
    "                                     )) for r in img_px_values])\n",
    "\n",
    "Y_train = np_utils.to_categorical(numpy.array(img_lab), classes)\n",
    "\n",
    "# draw one image from the pixel data\n",
    "ndarray2image(X_train[0],\"test_image.png\")\n",
    "\n",
    "# print the dimension of training data\n",
    "print 'X_train shape:', X_train.shape\n",
    "print 'Y_train shape:', Y_train.shape\n",
    "\n",
    "''' read testing data '''\n",
    "# get the file names which start with \"test_batch\" (testing data)\n",
    "test_fns = [fn for fn in listdir(dataset_path) if isfile(join(dataset_path, fn)) & fn.startswith(\"test_batch\")]\n",
    "\n",
    "# read testing data\n",
    "fn = test_fns[0]\n",
    "raw_data = unpickle(dataset_path + fn)\n",
    "\n",
    "# type of raw data\n",
    "type(raw_data)\n",
    "\n",
    "# check keys of testing data\n",
    "raw_data_keys = raw_data.keys()\n",
    "# ['data', 'labels', 'batch_label', 'filenames']\n",
    "\n",
    "img_px_values = raw_data['data']\n",
    "\n",
    "# check dimensions of data\n",
    "print \"dim(data)\", numpy.array(img_px_values).shape\n",
    "# dim(data) (10000, 3072)\n",
    "\n",
    "img_lab = raw_data['labels']\n",
    "# check dimensions of labels\n",
    "print \"dim(labels)\",numpy.array(img_lab).shape\n",
    "# dim(data) (10000,)\n",
    "\n",
    "X_test = numpy.asarray([numpy.dstack((r[0:(width*height)].reshape(height,width),\n",
    "                                      r[(width*height):(2*width*height)].reshape(height,width),\n",
    "                                      r[(2*width*height):(3*width*height)].reshape(height,width)\n",
    "                                    )) for r in img_px_values])\n",
    "\n",
    "Y_test = np_utils.to_categorical(numpy.array(raw_data['labels']), classes)\n",
    "\n",
    "# scale image data to range [0, 1]\n",
    "X_train = X_train.astype('float32')\n",
    "X_test = X_test.astype('float32')\n",
    "X_train /= 255.0\n",
    "X_test /= 255.0\n",
    "\n",
    "# print the dimension of training data\n",
    "print 'X_test shape:', X_test.shape\n",
    "print 'Y_test shape:', Y_test.shape\n",
    "\n",
    "# normalize inputs from 0-255 to 0.0-1.0"
   ]
  },
  {
   "cell_type": "code",
   "execution_count": 4,
   "metadata": {
    "collapsed": true
   },
   "outputs": [],
   "source": [
    "import tensorflow as tf\n",
    "import numpy as np\n",
    "import time"
   ]
  },
  {
   "cell_type": "code",
   "execution_count": 5,
   "metadata": {
    "collapsed": false
   },
   "outputs": [
    {
     "name": "stdout",
     "output_type": "stream",
     "text": [
      "(32, 32, 3)\n"
     ]
    },
    {
     "data": {
      "image/png": "[encoded data removed]",
      "text/plain": [
       "<matplotlib.figure.Figure at 0x7f897e8a1190>"
      ]
     },
     "metadata": {},
     "output_type": "display_data"
    }
   ],
   "source": [
    "import matplotlib.pyplot as plt\n",
    "print(X_train[0].shape)\n",
    "\n",
    "idx = 22\n",
    "plt.imshow(X_train[idx])\n",
    "plt.show()"
   ]
  },
  {
   "cell_type": "code",
   "execution_count": 6,
   "metadata": {
    "collapsed": false
   },
   "outputs": [],
   "source": [
    "class sophi_net:\n",
    "    def __init__(self, batch_size):\n",
    "        self.batch_size = batch_size\n",
    "        self.image_holder = tf.placeholder(\n",
    "                            tf.float32, shape=[self.batch_size, 32,32,3])\n",
    "        self.label_holder = tf.placeholder(\n",
    "                            tf.int32, shape=[self.batch_size, 10])\n",
    "        \n",
    "        self.one_image = tf.placeholder(\n",
    "                            tf.float32, shape=[1,32,32,3])\n",
    "        self.one_label = tf.placeholder(\n",
    "                            tf.int32, shape=[1, 10]) \n",
    "        \n",
    "#        self.logits = self.net()\n",
    "         \n",
    "        self.weight1, self.bias1= self.weight_with_loss([5,5,3,64],\n",
    "                               stddev=5e-2, lamb=0.0, bias = 0.0 )\n",
    "        kernel1 = tf.nn.conv2d(self.image_holder, self.weight1,\n",
    "                               strides=[1,1,1,1], padding='SAME',\n",
    "                               use_cudnn_on_gpu = True)\n",
    "        self.conv1 = tf.nn.relu( tf.add(kernel1, self.bias1) ) \n",
    "        self.pool1 = tf.nn.max_pool(self.conv1, [1,3,3,1], \n",
    "                               strides=[1,2,2,1], padding='SAME')\n",
    "        #norm1 = tf.nn.lrn(self.pool1,4,bias=1.0,alpha=1e-3/9.0,beta=0.75)\n",
    "        \n",
    "        \n",
    "        # 2nd cnn layer\n",
    "        self.weight2, self.bias2= self.weight_with_loss([5,5,64,64],\n",
    "                               stddev=5e-2, lamb=0.0, bias = 0.1 )\n",
    "        #kernel2 = tf.nn.conv2d(norm1, self.weight2, \n",
    "        kernel2 = tf.nn.conv2d(self.pool1, self.weight2, \n",
    "                               strides=[1,1,1,1], padding='SAME',\n",
    "                               use_cudnn_on_gpu = True)\n",
    "        self.conv2 = tf.nn.relu( tf.add(kernel2, self.bias2) ) \n",
    "        #norm2 = tf.nn.lrn(self.conv2,4,bias=1.0,alpha=1e-3/9.0,beta=0.75)\n",
    "        #self.pool2 = tf.nn.max_pool(norm2, [1,3,3,1],\n",
    "        self.pool2 = tf.nn.max_pool(self.conv2, [1,3,3,1],\n",
    "                                strides=[1,2,2,1], padding='SAME')\n",
    "\n",
    "        flatten = tf.reshape(self.pool2, [batch_size, -1])\n",
    "        dim = flatten.get_shape()[1].value\n",
    "\n",
    "        # 3rd fc layer\n",
    "        self.weight3, self.bias3= self.weight_with_loss([dim,384],\n",
    "                               stddev=0.04, lamb=0.004, bias = 0.1 )\n",
    "        self.fc3 = tf.nn.relu(tf.add(tf.matmul(flatten, self.weight3),\n",
    "                                self.bias3))\n",
    "\n",
    "        # 4th fc layer\n",
    "        self.weight4, self.bias4= self.weight_with_loss([384,192],\n",
    "                               stddev=0.04, lamb=0.004, bias = 0.1 )\n",
    "        self.fc4 = tf.nn.relu(tf.add(tf.matmul(self.fc3, self.weight4),\n",
    "                                self.bias4))\n",
    "\n",
    "        # 5th output logit layer\n",
    "        self.weight5, self.bias5= self.weight_with_loss([192,10],\n",
    "                               stddev=1/192.0, lamb=0.0, bias = 0.0 )\n",
    "        self.logits = tf.add(tf.matmul(self.fc4, self.weight5), \n",
    "                             self.bias5)        \n",
    "        \n",
    "        self.VZ = self.net()\n",
    "\n",
    "        \n",
    "    def net(self,):\n",
    "        # 1st cnn layer\n",
    "        kernel1 = tf.nn.conv2d(self.one_image, self.weight1, \n",
    "                               strides=[1,1,1,1], padding='SAME')\n",
    "        conv1 = tf.nn.relu( tf.add(kernel1, self.bias1) ) \n",
    "        pool1 = tf.nn.max_pool(conv1, [1,3,3,1], strides=[1,2,2,1],\n",
    "                               padding='SAME')\n",
    "        #norm1 = tf.nn.lrn(pool1,4,bias=1.0,alpha=1e-3/9.0,beta=0.75)\n",
    "       \n",
    "        # 2nd cnn layer\n",
    "        #kernel2 = tf.nn.conv2d(norm1, weight2, strides=[1,1,1,1], padding='SAME',\n",
    "        kernel2 = tf.nn.conv2d(pool1, self.weight2, strides=[1,1,1,1], padding='SAME',\n",
    "                       use_cudnn_on_gpu = True)\n",
    "        conv2 = tf.nn.relu( tf.add(kernel2, self.bias2) ) \n",
    "        #norm2 = tf.nn.lrn(conv2,4,bias=1.0,alpha=1e-3/9.0,beta=0.75)\n",
    "        #pool2 = tf.nn.max_pool(norm2, [1,3,3,1], strides=[1,2,2,1], padding='SAME')\n",
    "        pool2 = tf.nn.max_pool(conv2, [1,3,3,1], strides=[1,2,2,1], padding='SAME')\n",
    "\n",
    "        \n",
    "        flatten = tf.reshape(pool2, [batch_size, -1])\n",
    "        dim = flatten.get_shape()[1].value\n",
    "\n",
    "        # 3rd fc layer\n",
    "        weight3, bias3= self.weight_with_loss([dim,384], stddev=0.04 ,\n",
    "                                          lamb=0.004, bias = 0.1 )\n",
    "        fc3 = tf.nn.relu(tf.add(tf.matmul(flatten, weight3) , bias3))\n",
    "\n",
    "        # 4th fc layer\n",
    "        weight4, bias4= self.weight_with_loss([384,192], stddev=0.04 ,\n",
    "                                          lamb=0.004, bias = 0.1 )\n",
    "        fc4 = tf.nn.relu(tf.add(tf.matmul(fc3, weight4) , bias4))\n",
    "\n",
    "        # 5th output logit layer\n",
    "        weight5, bias5= self.weight_with_loss([192,10], stddev=1/192.0 ,\n",
    "                                          lamb=0.0, bias = 0.0 )\n",
    "        logits = tf.add(tf.matmul(fc4, weight5) , bias5)\n",
    "        sum_over_pool1 = tf.reduce_sum(pool1)\n",
    "        gd1_op = tf.gradients(sum_over_pool1, conv1)\n",
    "        sum_over_pool2 = tf.reduce_sum(pool2)\n",
    "        gd2_op = tf.gradients(sum_over_pool2, conv2) \n",
    "        \n",
    "        return [logits, kernel1, conv1, pool1, gd1_op,\n",
    "                kernel2, conv2, pool2, gd2_op]\n",
    "\n",
    "    def loss(self):\n",
    "        labels = tf.cast(self.label_holder, tf.int64)\n",
    "        cross_entropy_mean = tf.reduce_mean(\n",
    "              tf.nn.softmax_cross_entropy_with_logits(logits=self.logits,\n",
    "              labels=self.label_holder, dim=-1, name='loss') )\n",
    "        tf.add_to_collection('losses', cross_entropy_mean)                 \n",
    "        return tf.add_n(tf.get_collection('losses'), name='total_loss')\n",
    "                \n",
    "    def weight_with_loss(self, shape, stddev, lamb, bias):\n",
    "        weight_ = tf.Variable(tf.truncated_normal(shape, stddev = stddev))\n",
    "        bias_ = tf.Variable(tf.constant(bias, shape=[shape[-1]]))\n",
    "        weight_loss = tf.mul( lamb , tf.nn.l2_loss(weight_)  )\n",
    "        tf.add_to_collection('losses', weight_loss)\n",
    "        return weight_, bias_"
   ]
  },
  {
   "cell_type": "code",
   "execution_count": 7,
   "metadata": {
    "collapsed": false
   },
   "outputs": [],
   "source": [
    "#max_steps = 3000\n",
    "batch_size = 128\n",
    "model = sophi_net(batch_size)"
   ]
  },
  {
   "cell_type": "code",
   "execution_count": 8,
   "metadata": {
    "collapsed": false
   },
   "outputs": [],
   "source": [
    "cross_entropy = model.loss()\n",
    "train_op = tf.train.AdamOptimizer(1e-3).minimize(cross_entropy)\n",
    "        #top_one_op = tf.nn.in_top_k(logits, label_holder, 1)\n",
    "\n",
    "sess = tf.Session()\n",
    "        #ini_op = tf.initialize_all_variables()\n",
    "        #sess.run(ini_op)\n",
    "sess.run(tf.initialize_all_variables())\n",
    "#tf.train.start_queue_runners()"
   ]
  },
  {
   "cell_type": "code",
   "execution_count": 9,
   "metadata": {
    "collapsed": false
   },
   "outputs": [
    {
     "name": "stdout",
     "output_type": "stream",
     "text": [
      "(0, 0, 6.3898249, 6.3979754)\n",
      "(0, 50, 2.2947502, 2.3578002)\n",
      "(0, 100, 1.8754941, 1.8296732)\n",
      "(0, 150, 1.7684915, 1.721463)\n",
      "(0, 200, 1.4336863, 1.5936258)\n",
      "(0, 250, 1.6711789, 1.5777045)\n",
      "(0, 300, 1.5129595, 1.4052124)\n",
      "(0, 350, 1.4855456, 1.3707353)\n",
      "(1, 0, 1.3073658, 1.5646598)\n",
      "(1, 50, 1.3846025, 1.4411627)\n",
      "(1, 100, 1.4509364, 1.4740494)\n",
      "(1, 150, 1.2673652, 1.429816)\n",
      "(1, 200, 1.310776, 1.5282578)\n",
      "(1, 250, 1.275234, 1.2987339)\n",
      "(1, 300, 1.2819833, 1.3447793)\n",
      "(1, 350, 1.171948, 1.3781929)\n",
      "(2, 0, 1.3944433, 1.4448724)\n",
      "(2, 50, 1.1667447, 1.3931178)\n",
      "(2, 100, 1.3796248, 1.3854524)\n",
      "(2, 150, 1.2276783, 1.2935516)\n",
      "(2, 200, 1.066718, 1.3432014)\n",
      "(2, 250, 1.1369948, 1.1633132)\n",
      "(2, 300, 1.1910036, 1.2096883)\n",
      "(2, 350, 1.2581646, 1.2787964)\n",
      "(3, 0, 1.1572915, 1.2205924)\n",
      "(3, 50, 1.1924365, 1.2531418)\n",
      "(3, 100, 1.2260021, 1.2838401)\n",
      "(3, 150, 1.3096908, 1.2156341)\n",
      "(3, 200, 1.0903424, 1.2975056)\n",
      "(3, 250, 1.1023866, 1.3370051)\n",
      "(3, 300, 0.94256121, 1.1724815)\n",
      "(3, 350, 0.99702013, 1.1026415)\n",
      "(4, 0, 1.0173466, 1.1690465)\n",
      "(4, 50, 0.80139005, 1.143034)\n",
      "(4, 100, 0.87348497, 1.1473402)\n",
      "(4, 150, 0.87441862, 1.2098341)\n",
      "(4, 200, 0.84660965, 1.2361717)\n",
      "(4, 250, 0.94414032, 1.2088162)\n",
      "(4, 300, 0.84738994, 1.204573)\n",
      "(4, 350, 0.95511675, 1.1879394)\n",
      "(5, 0, 0.88121212, 1.0827473)\n",
      "(5, 50, 0.82660967, 1.132977)\n",
      "(5, 100, 0.97548813, 1.1131747)\n",
      "(5, 150, 0.84086001, 1.0858015)\n",
      "(5, 200, 0.89199692, 1.2402442)\n",
      "(5, 250, 1.0433093, 1.1727071)\n",
      "(5, 300, 0.92586285, 1.0855179)\n",
      "(5, 350, 0.94386667, 1.1184981)\n",
      "(6, 0, 0.90883124, 0.98732114)\n",
      "(6, 50, 0.97187871, 0.9229784)\n",
      "(6, 100, 0.84548503, 1.0129889)\n",
      "(6, 150, 0.92452145, 1.0046166)\n",
      "(6, 200, 0.82298183, 0.90710229)\n",
      "(6, 250, 0.85500681, 0.94317663)\n",
      "(6, 300, 0.83358485, 0.96359932)\n",
      "(6, 350, 0.88587016, 0.87925875)\n",
      "(7, 0, 0.74445534, 0.81276757)\n",
      "(7, 50, 0.73091567, 0.86276644)\n",
      "(7, 100, 0.909823, 0.78823644)\n",
      "(7, 150, 0.92785597, 0.81656653)\n",
      "(7, 200, 0.6225183, 0.87784839)\n",
      "(7, 250, 0.7893241, 0.90878749)\n",
      "(7, 300, 0.95987511, 0.79592478)\n",
      "(7, 350, 0.80010718, 0.841322)\n",
      "(8, 0, 0.69799769, 1.054202)\n",
      "(8, 50, 0.72227132, 1.1133778)\n",
      "(8, 100, 0.77722174, 1.0861138)\n",
      "(8, 150, 0.95765877, 1.1038015)\n",
      "(8, 200, 0.78499782, 1.134936)\n",
      "(8, 250, 0.78669184, 1.1785176)\n",
      "(8, 300, 0.79548252, 1.1029112)\n",
      "(8, 350, 0.84478712, 1.041818)\n",
      "(9, 0, 0.67054075, 0.89385325)\n",
      "(9, 50, 0.76091981, 1.0478585)\n",
      "(9, 100, 0.8143459, 1.0832908)\n",
      "(9, 150, 0.81501526, 1.0786611)\n",
      "(9, 200, 0.82126117, 0.89304715)\n",
      "(9, 250, 0.83133525, 0.9883914)\n",
      "(9, 300, 0.66605836, 0.92468208)\n",
      "(9, 350, 0.84177577, 0.98630661)\n"
     ]
    }
   ],
   "source": [
    "epochs = 10\n",
    "num_samples = len(X_train)\n",
    "perm = np.arange( num_samples )\n",
    "num_samples_test = len(X_test)\n",
    "perm_test = np.arange( num_samples_test )\n",
    "\n",
    "for epoch in range(epochs):\n",
    "    \n",
    "    np.random.shuffle(perm)\n",
    "    np.random.shuffle(perm_test)\n",
    "    X_train = X_train[perm]\n",
    "    Y_train = Y_train[perm]\n",
    "    X_test = X_test[perm_test]\n",
    "    Y_test = Y_test[perm_test]\n",
    "    x_test = X_test[:batch_size]\n",
    "    y_test = Y_test[:batch_size]\n",
    "    \n",
    "    start = 0 \n",
    "    end = batch_size\n",
    "    step = 0\n",
    "    \n",
    "    while end < num_samples:\n",
    "        x_batch = X_train[start:end]\n",
    "        y_batch = Y_train[start:end]\n",
    "                \n",
    "        sess.run(train_op, feed_dict={model.image_holder:x_batch,\n",
    "                                      model.label_holder:y_batch})\n",
    "        batch_loss = sess.run(cross_entropy,\n",
    "                           feed_dict={model.image_holder:x_batch,\n",
    "                                      model.label_holder:y_batch})\n",
    "        test_loss = sess.run(cross_entropy,\n",
    "                           feed_dict={model.image_holder:x_test,\n",
    "                                      model.label_holder:y_test})\n",
    "        \n",
    "        if step%50 ==0:\n",
    "            print(epoch, step, batch_loss, test_loss)\n",
    "            \n",
    "        \n",
    "        start += batch_size\n",
    "        end += batch_size\n",
    "        step += 1"
   ]
  },
  {
   "cell_type": "code",
   "execution_count": 10,
   "metadata": {
    "collapsed": false
   },
   "outputs": [],
   "source": [
    "correct_prediction = tf.equal(tf.argmax(model.logits,1), \n",
    "                              tf.argmax(model.label_holder,1))\n",
    "accuracy = tf.reduce_mean(tf.cast(correct_prediction, tf.float32))"
   ]
  },
  {
   "cell_type": "code",
   "execution_count": 11,
   "metadata": {
    "collapsed": false
   },
   "outputs": [
    {
     "data": {
      "text/plain": [
       "0.7265625"
      ]
     },
     "execution_count": 11,
     "metadata": {},
     "output_type": "execute_result"
    }
   ],
   "source": [
    "np.random.shuffle(perm_test)\n",
    "X_test = X_test[perm_test]\n",
    "Y_test = Y_test[perm_test]\n",
    "x_test = X_test[:128]\n",
    "y_test = Y_test[:128]\n",
    "sess.run(accuracy, feed_dict={model.image_holder: x_test,\n",
    "                              model.label_holder: y_test} )"
   ]
  },
  {
   "cell_type": "code",
   "execution_count": null,
   "metadata": {
    "collapsed": true
   },
   "outputs": [],
   "source": []
  },
  {
   "cell_type": "code",
   "execution_count": 12,
   "metadata": {
    "collapsed": false
   },
   "outputs": [],
   "source": [
    "###  vz_op contains: [logits, kernel1, conv1, pool1, gd1_op,\n",
    "###                           kernel2, conv2, pool2, gd2_op]\n",
    "vz_op = model.VZ"
   ]
  },
  {
   "cell_type": "code",
   "execution_count": null,
   "metadata": {
    "collapsed": true
   },
   "outputs": [],
   "source": []
  },
  {
   "cell_type": "code",
   "execution_count": 88,
   "metadata": {
    "collapsed": true
   },
   "outputs": [],
   "source": [
    "pic_idx = 77\n",
    "x_vis = x_test[pic_idx].reshape([1,32,32,3])"
   ]
  },
  {
   "cell_type": "code",
   "execution_count": 89,
   "metadata": {
    "collapsed": false
   },
   "outputs": [
    {
     "name": "stdout",
     "output_type": "stream",
     "text": [
      "(1, 8, 8, 64)\n",
      "5\n",
      "(1, 16, 16, 64)\n",
      "(1, 16, 16, 64)\n",
      "(1, 16, 16, 64)\n",
      "(1, 16, 16, 64)\n",
      "(1, 16, 16, 64)\n"
     ]
    },
    {
     "data": {
      "image/png": "[encoded data removed]",
      "text/plain": [
       "<matplotlib.figure.Figure at 0x7f894e937bd0>"
      ]
     },
     "metadata": {},
     "output_type": "display_data"
    },
    {
     "name": "stdout",
     "output_type": "stream",
     "text": [
      "(1, 32, 32, 64)\n",
      "(1, 32, 32, 64)\n",
      "(1, 32, 32, 64)\n",
      "(1, 32, 32, 3)\n"
     ]
    },
    {
     "data": {
      "image/png": "[encoded data removed]",
      "text/plain": [
       "<matplotlib.figure.Figure at 0x7f894f032290>"
      ]
     },
     "metadata": {},
     "output_type": "display_data"
    },
    {
     "data": {
      "image/png": "[encoded data removed]",
      "text/plain": [
       "<matplotlib.figure.Figure at 0x7f894ba419d0>"
      ]
     },
     "metadata": {},
     "output_type": "display_data"
    },
    {
     "data": {
      "image/png": "[encoded data removed]",
      "text/plain": [
       "<matplotlib.figure.Figure at 0x7f894f2eaa10>"
      ]
     },
     "metadata": {},
     "output_type": "display_data"
    }
   ],
   "source": [
    "pool2 = sess.run(vz_op[7], feed_dict={model.one_image: x_vis } )\n",
    "\n",
    "print(pool2.shape)             # should be (3, 8, 8, 64)\n",
    "print(np.argmax(y_test[pic_idx]))  # make sure what the answer is \n",
    "\n",
    "#for ch in range(3):\n",
    "#   plt.imshow(pool1[0,:,:,ch], clim=[0,2])\n",
    "    #plt.imshow(pool1[0,:,:,ch],cmap='gray')\n",
    "#    plt.colorbar()\n",
    "#    plt.show()\n",
    "    \n",
    "gradient2 = sess.run(vz_op[8], feed_dict={model.one_image: x_vis}  )\n",
    "gd2 = np.array(gradient2).reshape(1,16,16,64)\n",
    "print(gd2.shape)\n",
    "\n",
    "resized_pool2 = sess.run(tf.image.resize_images(pool2, [16, 16]))\n",
    "print(resized_pool2.shape)\n",
    "\n",
    "de_pool2 = resized_pool2*gd2\n",
    "print(de_pool2.shape)\n",
    "\n",
    "relu_de_pool2 = sess.run(tf.nn.relu(de_pool2) )\n",
    "print(relu_de_pool2.shape)\n",
    "\n",
    "deconv2 = sess.run(tf.nn.conv2d_transpose(relu_de_pool2, model.weight2,\n",
    "                    output_shape =[1,16,16,64] , strides=[1,1,1,1],\n",
    "                    padding = 'SAME'))\n",
    "\n",
    "upper = 5\n",
    "print(deconv2 .shape)\n",
    "\n",
    "\n",
    "fig, axes = plt.subplots(nrows=3, ncols=3, figsize=(12,12))\n",
    "axes = axes.reshape(-1)\n",
    "#print(axes[0])\n",
    "for idx in range(9):\n",
    "    axes[idx].imshow(deconv2[0,:,:,idx],clim=[0,upper])\n",
    "plt.show()\n",
    "\n",
    "#max_val2 = np.max(deconv2[0,:,:,0])\n",
    "#reconst2 =  np.sign(deconv2[0,:,:,0]-0.1*(max_val2)  ) + 0.5\n",
    "\n",
    "\n",
    "## ======================================================\n",
    "gradient1 = sess.run(vz_op[4], feed_dict={model.one_image: x_vis}  )\n",
    "gd1 = np.array(gradient1).reshape(1,32,32,64)\n",
    "\n",
    "resized_pool1 = sess.run(tf.image.resize_images(deconv2, [32, 32]))\n",
    "print(resized_pool1.shape)\n",
    "#plt.imshow(resized_pool1[0,:,:,2],clim=[0,2])\n",
    "#plt.colorbar()\n",
    "#plt.show()\n",
    "\n",
    "de_pool1 = resized_pool1*gd1\n",
    "print(de_pool1.shape)\n",
    "\n",
    "relu_de_pool1 = sess.run(tf.nn.relu(de_pool1) )\n",
    "print(relu_de_pool1.shape)\n",
    "#plt.imshow(relu_de_pool1[0,:,:,2],clim=[0,2])\n",
    "#plt.colorbar()\n",
    "#plt.show()\n",
    "\n",
    "deconv1 = sess.run(tf.nn.conv2d_transpose(relu_de_pool1, model.weight1,\n",
    "                    output_shape =[1,32,32,3] , strides=[1,1,1,1],\n",
    "                    padding = 'SAME'))\n",
    "\n",
    "flat1 = deconv1[0,:,:,0].reshape([-1])\n",
    "flat2 = deconv1[0,:,:,1].reshape([-1])\n",
    "flat3 = deconv1[0,:,:,2].reshape([-1])\n",
    "bins = np.linspace(-0.1,1.1,20)\n",
    "\n",
    "upper = 10\n",
    "print(deconv1.shape)\n",
    "plt.imshow(deconv1[0,:,:,0],clim=[0,upper])\n",
    "plt.colorbar()\n",
    "plt.show()\n",
    "\n",
    "max_val1 = np.max(deconv1)\n",
    "#reconst1 =  np.sign(deconv1[0,:,:,0]-0.1*(max_val1)  ) + 0.5\n",
    "\n",
    "\n",
    "img = deconv1[0,:,:,:]\n",
    "#plt.imshow(reconst1[:,:],clim=[0,3])\n",
    "plt.imshow(deconv1[0,:,:,2],clim=[0,5])\n",
    "plt.colorbar()\n",
    "plt.show()\n",
    "\n",
    "plt.imshow(x_vis[0],clim=[0,1])\n",
    "plt.colorbar()\n",
    "plt.show()"
   ]
  },
  {
   "cell_type": "code",
   "execution_count": 90,
   "metadata": {
    "collapsed": false
   },
   "outputs": [
    {
     "data": {
      "image/png": "[encoded data removed]",
      "text/plain": [
       "<matplotlib.figure.Figure at 0x7f894e334ed0>"
      ]
     },
     "metadata": {},
     "output_type": "display_data"
    }
   ],
   "source": [
    "for idx in range(3):\n",
    "    max_ = np.max(img[:,:,idx])\n",
    "    min_ = np.min(img[:,:,idx])\n",
    "    img[:,:,idx] = (img[:,:,idx]-min_ )/(max_ - min_ )\n",
    "plt.imshow(img)\n",
    "plt.colorbar()\n",
    "plt.show()"
   ]
  },
  {
   "cell_type": "code",
   "execution_count": 92,
   "metadata": {
    "collapsed": false
   },
   "outputs": [
    {
     "data": {
      "image/png": "[encoded data removed]",
      "text/plain": [
       "<matplotlib.figure.Figure at 0x7f894de7fc90>"
      ]
     },
     "metadata": {},
     "output_type": "display_data"
    }
   ],
   "source": [
    "flat = deconv1.reshape(-1)\n",
    "bins = np.linspace(np.min(flat), np.max(flat), 30)\n",
    "plt.hist(flat, bins=bins, color = 'blue')\n",
    "plt.show()"
   ]
  },
  {
   "cell_type": "code",
   "execution_count": null,
   "metadata": {
    "collapsed": true
   },
   "outputs": [],
   "source": []
  },
  {
   "cell_type": "code",
   "execution_count": null,
   "metadata": {
    "collapsed": true
   },
   "outputs": [],
   "source": []
  },
  {
   "cell_type": "code",
   "execution_count": 46,
   "metadata": {
    "collapsed": false
   },
   "outputs": [
    {
     "data": {
      "image/png": "[encoded data removed]",
      "text/plain": [
       "<matplotlib.figure.Figure at 0x7f894e0a5c10>"
      ]
     },
     "metadata": {},
     "output_type": "display_data"
    }
   ],
   "source": [
    "flat1 = img[:,:,0].reshape([-1])\n",
    "flat2 = img[:,:,1].reshape([-1])\n",
    "flat3 = img[:,:,2].reshape([-1])\n",
    "bins = np.linspace(-0.1,1.1,20)\n",
    "\n",
    "fig, axes = plt.subplots(nrows=1, ncols=3, figsize=(12,3))\n",
    "axes = axes.reshape(-1)\n",
    "#print(axes[0])\n",
    "axes[0].hist(flat1, color='red', bins=bins, alpha=0.5,)\n",
    "axes[1].hist(flat2, color='green', bins=bins, alpha=0.5,)\n",
    "axes[2].hist(flat3, color='blue', bins=bins, alpha=0.5,)\n",
    "plt.show()"
   ]
  },
  {
   "cell_type": "code",
   "execution_count": 47,
   "metadata": {
    "collapsed": false
   },
   "outputs": [
    {
     "data": {
      "image/png": "[encoded data removed]",
      "text/plain": [
       "<matplotlib.figure.Figure at 0x7f894deaa2d0>"
      ]
     },
     "metadata": {},
     "output_type": "display_data"
    }
   ],
   "source": [
    "flat = x_vis[0].reshape([-1,3])\n",
    "bins = np.linspace(-0.1,1.1,30)\n",
    "\n",
    "fig, axes = plt.subplots(nrows=1, ncols=3, figsize=(12,3))\n",
    "axes = axes.reshape(-1)\n",
    "#print(axes[0])\n",
    "axes[0].hist(flat[:,0], color='red', bins=bins, alpha=0.5,)\n",
    "axes[1].hist(flat[:,1], color='green', bins=bins, alpha=0.5,)\n",
    "axes[2].hist(flat[:,2], color='blue', bins=bins, alpha=0.5,)\n",
    "plt.show()"
   ]
  },
  {
   "cell_type": "code",
   "execution_count": 334,
   "metadata": {
    "collapsed": false
   },
   "outputs": [
    {
     "data": {
      "text/plain": [
       "(32, 32, 3)"
      ]
     },
     "execution_count": 334,
     "metadata": {},
     "output_type": "execute_result"
    }
   ],
   "source": [
    "x_vis[0].shape"
   ]
  },
  {
   "cell_type": "code",
   "execution_count": null,
   "metadata": {
    "collapsed": true
   },
   "outputs": [],
   "source": []
  },
  {
   "cell_type": "code",
   "execution_count": 50,
   "metadata": {
    "collapsed": false
   },
   "outputs": [],
   "source": [
    "optimizer = tf.train.AdamOptimizer(1e-3)\n",
    "gd_and_w1 = optimizer.compute_gradients(cross_entropy,\n",
    "            var_list=[model.weight1 ]) \n",
    "gd_and_w2 = optimizer.compute_gradients(cross_entropy,\n",
    "            var_list=[model.weight2 ]) \n",
    "#train_step = optimizer.apply_gradients(gra_and_var)"
   ]
  },
  {
   "cell_type": "code",
   "execution_count": 51,
   "metadata": {
    "collapsed": false
   },
   "outputs": [
    {
     "name": "stdout",
     "output_type": "stream",
     "text": [
      "(1, 2, 5, 5, 3, 64)\n",
      "[-0.00486601 -0.01443334  0.02087443 -0.07131099]\n",
      "[ -8.65501022e-07  -7.08983571e-05   2.50232959e-04  -6.85689622e-04]\n"
     ]
    }
   ],
   "source": [
    "gd_1 = sess.run(gd_and_w1, feed_dict = {model.image_holder:x_batch,\n",
    "                                   model.label_holder:y_batch})\n",
    "gd_2 = sess.run(gd_and_w2, feed_dict = {model.image_holder:x_batch,\n",
    "                                   model.label_holder:y_batch})\n",
    "print(np.array(gd_1).shape)\n",
    "## gd_1[0][0] are gradients\n",
    "## gd_1[0][1] are variables\n",
    "print(gd_1[0][0][0][0][0][:4])\n",
    "print(gd_2[0][0][0][0][0][:4])"
   ]
  },
  {
   "cell_type": "code",
   "execution_count": 29,
   "metadata": {
    "collapsed": true
   },
   "outputs": [],
   "source": [
    "#w1 = sess.run(model.weight1)"
   ]
  },
  {
   "cell_type": "code",
   "execution_count": 52,
   "metadata": {
    "collapsed": false
   },
   "outputs": [
    {
     "data": {
      "text/plain": [
       "(5, 5, 3, 64)"
      ]
     },
     "execution_count": 52,
     "metadata": {},
     "output_type": "execute_result"
    }
   ],
   "source": [
    "w1 = gd_1[0][1]\n",
    "w1.shape"
   ]
  },
  {
   "cell_type": "code",
   "execution_count": 53,
   "metadata": {
    "collapsed": false
   },
   "outputs": [
    {
     "data": {
      "text/plain": [
       "(5, 5, 64, 64)"
      ]
     },
     "execution_count": 53,
     "metadata": {},
     "output_type": "execute_result"
    }
   ],
   "source": [
    "w2 = gd_2[0][1]\n",
    "w2.shape"
   ]
  },
  {
   "cell_type": "code",
   "execution_count": null,
   "metadata": {
    "collapsed": true
   },
   "outputs": [],
   "source": []
  },
  {
   "cell_type": "code",
   "execution_count": 158,
   "metadata": {
    "collapsed": true
   },
   "outputs": [],
   "source": [
    "### layer1"
   ]
  },
  {
   "cell_type": "code",
   "execution_count": 54,
   "metadata": {
    "collapsed": false
   },
   "outputs": [
    {
     "data": {
      "image/png": "[encoded data removed]",
      "text/plain": [
       "<matplotlib.figure.Figure at 0x7f897fdfb690>"
      ]
     },
     "metadata": {},
     "output_type": "display_data"
    }
   ],
   "source": [
    "## plot w1 for one filter\n",
    "which_filter = 1\n",
    "flat_w1 = w1[:,:,:,which_filter].reshape(-1)\n",
    "bins = np.linspace(np.min(flat_w1), np.max(flat_w1), 30)\n",
    "plt.hist(flat_w1, bins=bins, color = 'blue')\n",
    "plt.show()"
   ]
  },
  {
   "cell_type": "code",
   "execution_count": 55,
   "metadata": {
    "collapsed": false
   },
   "outputs": [
    {
     "data": {
      "image/png": "[encoded data removed]",
      "text/plain": [
       "<matplotlib.figure.Figure at 0x7f894ebcf9d0>"
      ]
     },
     "metadata": {},
     "output_type": "display_data"
    }
   ],
   "source": [
    "## plot w1 for all filter\n",
    "flat_w1_all = w1.reshape(-1)\n",
    "bins = np.linspace(np.min(flat_w1_all), np.max(flat_w1_all), 100)\n",
    "plt.hist(flat_w1_all, bins=bins, color = 'blue')\n",
    "plt.show()"
   ]
  },
  {
   "cell_type": "code",
   "execution_count": 56,
   "metadata": {
    "collapsed": false
   },
   "outputs": [
    {
     "data": {
      "image/png": "[encoded data removed]",
      "text/plain": [
       "<matplotlib.figure.Figure at 0x7f894e6828d0>"
      ]
     },
     "metadata": {},
     "output_type": "display_data"
    }
   ],
   "source": [
    "## plot kernel1 for all filter\n",
    "k1_op = tf.nn.conv2d(model.image_holder, model.weight1,\n",
    "                               strides=[1,1,1,1], padding='SAME',\n",
    "                               use_cudnn_on_gpu = True)\n",
    "k1 = sess.run(k1_op, feed_dict = {model.image_holder:x_batch })\n",
    "flat_k1_all = k1.reshape(-1)\n",
    "bins = np.linspace(np.min(flat_k1_all), np.max(flat_k1_all), 100)\n",
    "plt.hist(flat_k1_all, bins=bins, color = 'blue')\n",
    "plt.show()"
   ]
  },
  {
   "cell_type": "code",
   "execution_count": 57,
   "metadata": {
    "collapsed": false
   },
   "outputs": [
    {
     "data": {
      "image/png": "[encoded data removed]",
      "text/plain": [
       "<matplotlib.figure.Figure at 0x7f894e654ed0>"
      ]
     },
     "metadata": {},
     "output_type": "display_data"
    }
   ],
   "source": [
    "## plot b1 for all filter\n",
    "b1 = sess.run(model.bias1)\n",
    "flat_b1_all = b1.reshape(-1)\n",
    "bins = np.linspace(np.min(flat_b1_all), np.max(flat_b1_all), 50)\n",
    "plt.hist(flat_b1_all, bins=bins, color = 'blue')\n",
    "plt.show()"
   ]
  },
  {
   "cell_type": "code",
   "execution_count": 58,
   "metadata": {
    "collapsed": false
   },
   "outputs": [
    {
     "data": {
      "image/png": "[encoded data removed]",
      "text/plain": [
       "<matplotlib.figure.Figure at 0x7f894e9cfad0>"
      ]
     },
     "metadata": {},
     "output_type": "display_data"
    }
   ],
   "source": [
    "## plot gradients w.r.t. w1 for all filter\n",
    "flat_gd1 = gd_1[0][0].reshape(-1)\n",
    "bins = np.linspace(np.min(flat_gd1), np.max(flat_gd1), 100)\n",
    "plt.hist(flat_gd1, bins=bins, color = 'blue')\n",
    "plt.show()"
   ]
  },
  {
   "cell_type": "code",
   "execution_count": null,
   "metadata": {
    "collapsed": true
   },
   "outputs": [],
   "source": [
    "### layer2"
   ]
  },
  {
   "cell_type": "code",
   "execution_count": 59,
   "metadata": {
    "collapsed": false
   },
   "outputs": [
    {
     "data": {
      "image/png": "[encoded data removed]",
      "text/plain": [
       "<matplotlib.figure.Figure at 0x7f894eb30750>"
      ]
     },
     "metadata": {},
     "output_type": "display_data"
    }
   ],
   "source": [
    "## plot w2 for all filter\n",
    "flat_w2_all = w2.reshape(-1)\n",
    "bins = np.linspace(np.min(flat_w2_all), np.max(flat_w2_all), 100)\n",
    "plt.hist(flat_w2_all, bins=bins, color = 'blue')\n",
    "plt.show()"
   ]
  },
  {
   "cell_type": "code",
   "execution_count": 60,
   "metadata": {
    "collapsed": false
   },
   "outputs": [
    {
     "data": {
      "image/png": "[encoded data removed]",
      "text/plain": [
       "<matplotlib.figure.Figure at 0x7f894ec12d10>"
      ]
     },
     "metadata": {},
     "output_type": "display_data"
    }
   ],
   "source": [
    "## plot kernel2 for all filter\n",
    "k2_op = tf.nn.conv2d(model.pool1, model.weight2, \n",
    "                               strides=[1,1,1,1], padding='SAME',\n",
    "                               use_cudnn_on_gpu = True)\n",
    "k2 = sess.run(k2_op, feed_dict = {model.image_holder:x_batch })\n",
    "flat_k2_all = k2.reshape(-1)\n",
    "bins = np.linspace(np.min(flat_k2_all), np.max(flat_k2_all), 100)\n",
    "plt.hist(flat_k2_all, bins=bins, color = 'blue')\n",
    "plt.show()"
   ]
  },
  {
   "cell_type": "code",
   "execution_count": 61,
   "metadata": {
    "collapsed": false
   },
   "outputs": [
    {
     "data": {
      "image/png": "[encoded data removed]",
      "text/plain": [
       "<matplotlib.figure.Figure at 0x7f894e821890>"
      ]
     },
     "metadata": {},
     "output_type": "display_data"
    }
   ],
   "source": [
    "## plot b2 for all filter\n",
    "b2 = sess.run(model.bias2)\n",
    "flat_b2_all = b2.reshape(-1)\n",
    "bins = np.linspace(np.min(flat_b2_all), np.max(flat_b2_all), 50)\n",
    "plt.hist(flat_b2_all, bins=bins, color = 'blue')\n",
    "plt.show()"
   ]
  },
  {
   "cell_type": "code",
   "execution_count": 62,
   "metadata": {
    "collapsed": false
   },
   "outputs": [
    {
     "data": {
      "image/png": "[encoded data removed]",
      "text/plain": [
       "<matplotlib.figure.Figure at 0x7f894df87790>"
      ]
     },
     "metadata": {},
     "output_type": "display_data"
    }
   ],
   "source": [
    "## plot gradients w.r.t. w2 for all filter\n",
    "flat_gd2 = gd_2[0][0].reshape(-1)\n",
    "bins = np.linspace(np.min(flat_gd2), np.max(flat_gd2), 100)\n",
    "plt.hist(flat_gd2, bins=bins, color = 'blue')\n",
    "plt.show()"
   ]
  },
  {
   "cell_type": "code",
   "execution_count": null,
   "metadata": {
    "collapsed": true
   },
   "outputs": [],
   "source": []
  },
  {
   "cell_type": "code",
   "execution_count": 44,
   "metadata": {
    "collapsed": true
   },
   "outputs": [],
   "source": [
    "feature2_1 = sess.run(model.conv2, feed_dict={model.image_holder:x_batch,\n",
    "                                            model.label_holder:y_batch} )\n"
   ]
  },
  {
   "cell_type": "code",
   "execution_count": 45,
   "metadata": {
    "collapsed": false
   },
   "outputs": [],
   "source": [
    "feature2_2 = sess.run(model.pool2, feed_dict={model.image_holder:x_batch,\n",
    "                                            model.label_holder:y_batch} )"
   ]
  },
  {
   "cell_type": "code",
   "execution_count": null,
   "metadata": {
    "collapsed": true
   },
   "outputs": [],
   "source": []
  },
  {
   "cell_type": "code",
   "execution_count": null,
   "metadata": {
    "collapsed": true
   },
   "outputs": [],
   "source": []
  },
  {
   "cell_type": "markdown",
   "metadata": {},
   "source": [
    "### Note 1: pixel values in \"deconvolved\" picture is kinda multiplied by a large number."
   ]
  },
  {
   "cell_type": "code",
   "execution_count": null,
   "metadata": {
    "collapsed": true
   },
   "outputs": [],
   "source": [
    "'''  posible reason:\n",
    "       Y = M X    M is not square\n",
    "     M'Y = M' M X\n",
    "  (M' M)^(-1) M' Y = X\n",
    "  1. if (M' M)^(-1) is approximately identity matrix I, then  M' Y = X\n",
    "  2. if (M' M)^(-1) is approximately a*I, then  a*M' Y = X\n",
    "''' "
   ]
  },
  {
   "cell_type": "code",
   "execution_count": null,
   "metadata": {
    "collapsed": true
   },
   "outputs": [],
   "source": []
  },
  {
   "cell_type": "code",
   "execution_count": null,
   "metadata": {
    "collapsed": true
   },
   "outputs": [],
   "source": []
  },
  {
   "cell_type": "markdown",
   "metadata": {},
   "source": [
    "## Appendix:"
   ]
  },
  {
   "cell_type": "markdown",
   "metadata": {},
   "source": [
    "### 1. How tocompute gradients -two examples"
   ]
  },
  {
   "cell_type": "code",
   "execution_count": null,
   "metadata": {
    "collapsed": false
   },
   "outputs": [],
   "source": [
    "## use \".compute_gradients()\"\n",
    "y = tf.Variable(tf.truncated_normal([1]))\n",
    "max_goal = tf.sin(y)\n",
    "optimizer = tf.train.GradientDescentOptimizer(learning_rate=0.1)\n",
    "gra_and_var = optimizer.compute_gradients(max_goal, var_list=[y])\n",
    "#train_step = optimizer.apply_gradients(gra_and_var)\n",
    "print(sess.run(y))\n",
    "print(sess.run(gra_and_var))"
   ]
  },
  {
   "cell_type": "code",
   "execution_count": 378,
   "metadata": {
    "collapsed": false
   },
   "outputs": [],
   "source": [
    "## use \".gradients()\"\n",
    "x0 = X_train[0,:,:,:].reshape([1,32,32,3])\n",
    "x_ = tf.placeholder(tf.float32,[1, 32, 32, 3])\n",
    "y_ = tf.reduce_sum(tf.nn.max_pool(x_, [1, 2, 2, 1],\n",
    "                      strides=[1,2,2,1] ,padding='SAME'), \n",
    "                   reduction_indices =[0,1]  )\n",
    "gd_op = tf.gradients(y_, x_)\n",
    "gradient = sess.run(gd_op, feed_dict={x_: x0} )\n",
    "\n",
    "## shape of variable is [1, 32, 32, 3]\n",
    "np.array(gradient).shape"
   ]
  },
  {
   "cell_type": "code",
   "execution_count": null,
   "metadata": {
    "collapsed": true
   },
   "outputs": [],
   "source": []
  },
  {
   "cell_type": "markdown",
   "metadata": {},
   "source": [
    "### 2. Plot histogram -visualize activation/weight/gradient"
   ]
  },
  {
   "cell_type": "code",
   "execution_count": 7,
   "metadata": {
    "collapsed": false
   },
   "outputs": [
    {
     "data": {
      "image/png": "[encoded data removed]",
      "text/plain": [
       "<matplotlib.figure.Figure at 0x7fca5ce15890>"
      ]
     },
     "metadata": {},
     "output_type": "display_data"
    }
   ],
   "source": [
    "flat = X_train[0].reshape([-1,3])\n",
    "bins = np.linspace(0,1,20)\n",
    "plt.hist(flat[:,0], color='red', bins=bins, alpha=0.5,)\n",
    "#plt.hist(flat[:,1], color='green', bins=bins, alpha=0.5,)\n",
    "plt.show()"
   ]
  },
  {
   "cell_type": "code",
   "execution_count": 8,
   "metadata": {
    "collapsed": false
   },
   "outputs": [
    {
     "data": {
      "image/png": "[encoded data removed]",
      "text/plain": [
       "<matplotlib.figure.Figure at 0x7fca4fe87850>"
      ]
     },
     "metadata": {},
     "output_type": "display_data"
    }
   ],
   "source": [
    "flat = X_train[0].reshape([-1,3])\n",
    "bins = np.linspace(0,1,20)\n",
    "\n",
    "fig, axes = plt.subplots(nrows=1, ncols=3, figsize=(12,3))\n",
    "axes = axes.reshape(-1)\n",
    "#print(axes[0])\n",
    "axes[0].hist(flat[:,0], color='red', bins=bins, alpha=0.5,)\n",
    "axes[1].hist(flat[:,1], color='green', bins=bins, alpha=0.5,)\n",
    "axes[2].hist(flat[:,2], color='blue', bins=bins, alpha=0.5,)\n",
    "plt.show()"
   ]
  },
  {
   "cell_type": "code",
   "execution_count": 9,
   "metadata": {
    "collapsed": false
   },
   "outputs": [
    {
     "data": {
      "image/png": "[encoded data removed]",
      "text/plain": [
       "<matplotlib.figure.Figure at 0x7fca4fb79810>"
      ]
     },
     "metadata": {},
     "output_type": "display_data"
    }
   ],
   "source": [
    "flat = X_train[0].reshape([-1,3])\n",
    "bins = np.linspace(0,1,20)\n",
    "channels = flat.shape[-1]\n",
    "\n",
    "fig, axes = plt.subplots(nrows=1, ncols=channels, figsize=(12,3))\n",
    "axes = axes.reshape(-1)\n",
    "#print(axes[0])\n",
    "#ylims = []\n",
    "for c in range(channels):\n",
    "    axes[c].hist(flat[:,c], color='blue', bins=bins, alpha=0.7,)\n",
    "#    ylims.append(axes[c].get_ylim()  )\n",
    "plt.show()\n",
    "#ylims"
   ]
  },
  {
   "cell_type": "markdown",
   "metadata": {},
   "source": [
    "### 3. Plot images: cv2 and pyplot"
   ]
  },
  {
   "cell_type": "code",
   "execution_count": null,
   "metadata": {
    "collapsed": true
   },
   "outputs": [],
   "source": [
    "import matplotlib.pyplot as plt\n",
    "print(X_train[0].shape)\n",
    "idx = 2\n",
    "plt.imshow(X_train[idx])\n",
    "plt.show()"
   ]
  },
  {
   "cell_type": "code",
   "execution_count": 5,
   "metadata": {
    "collapsed": true
   },
   "outputs": [],
   "source": [
    "import cv2\n",
    "cv2.imshow('test',X_train[0])\n",
    "cv2.waitKey(0)\n",
    "cv2.destroyAllWindows()"
   ]
  },
  {
   "cell_type": "code",
   "execution_count": null,
   "metadata": {
    "collapsed": true
   },
   "outputs": [],
   "source": []
  },
  {
   "cell_type": "markdown",
   "metadata": {},
   "source": [
    "### 4. sophi-net blocks:"
   ]
  },
  {
   "cell_type": "code",
   "execution_count": 11,
   "metadata": {
    "collapsed": true
   },
   "outputs": [],
   "source": [
    "#def variable_with_weight_loss(shape, stddev, lamb, bias):\n",
    "def weight_with_loss(shape, stddev, lamb, bias):\n",
    "    weight_ = tf.Variable(tf.truncated_normal(shape, stddev = stddev))\n",
    "    bias_ = tf.Variable(tf.constant(bias, shape=[shape[-1]]))\n",
    "    weight_loss = tf.mul( lamb , tf.nn.l2_loss(weight_)  )\n",
    "    tf.add_to_collection('losses', weight_loss)\n",
    "    return weight_, bias_"
   ]
  },
  {
   "cell_type": "code",
   "execution_count": 36,
   "metadata": {
    "collapsed": true
   },
   "outputs": [],
   "source": [
    "### Total Loss:\n",
    "def loss(logits, labels):\n",
    "    labels = tf.cast(labels, tf.int64)\n",
    "    cross_entropy_mean = tf.reduce_mean(\n",
    "                tf.nn.softmax_cross_entropy_with_logits(logits=logits,\n",
    "                labels=label_holder, dim=-1, name='loss') )\n",
    "    tf.add_to_collection('losses', cross_entropy_mean)                 \n",
    "    return tf.add_n(tf.get_collection('losses'), name='total_loss')"
   ]
  },
  {
   "cell_type": "code",
   "execution_count": 37,
   "metadata": {
    "collapsed": false
   },
   "outputs": [],
   "source": [
    "### Model:\n",
    "image_holder = tf.placeholder(tf.float32, shape=[batch_size, 32,32,3])\n",
    "label_holder = tf.placeholder(tf.int32, shape=[batch_size, 10])\n",
    "weight1, bias1= weight_with_loss([5,5,3,64], stddev=5e-2 ,\n",
    "                                          lamb=0.0, bias = 0.0 )\n",
    "kernel1 = tf.nn.conv2d(image_holder, weight1, strides=[1,1,1,1], padding='SAME')\n",
    "conv1 = tf.nn.relu( tf.add(kernel1, bias1) ) \n",
    "pool1 = tf.nn.max_pool(conv1, [1,3,3,1], strides=[1,2,2,1], padding='SAME')\n",
    "norm1 = tf.nn.lrn(pool1, 4, bias=1.0, alpha=1e-3/9.0, beta=0.75)\n",
    "\n",
    "    \n",
    "weight2, bias2= weight_with_loss([5,5,64,64], stddev=5e-2 ,\n",
    "                                          lamb=0.0, bias = 0.1 )\n",
    "kernel2 = tf.nn.conv2d(norm1, weight2, strides=[1,1,1,1], padding='SAME',\n",
    "                       use_cudnn_on_gpu = True)\n",
    "conv2 = tf.nn.relu( tf.add(kernel2, bias2) ) \n",
    "norm2 = tf.nn.lrn(conv2, 4, bias=1.0, alpha=1e-3/9.0, beta=0.75)\n",
    "pool2 = tf.nn.max_pool(norm2, [1,3,3,1], strides=[1,2,2,1], padding='SAME')\n",
    "\n",
    "flatten = tf.reshape(pool2, [batch_size, -1])\n",
    "dim = flatten.get_shape()[1].value\n",
    "\n",
    "weight3, bias3= weight_with_loss([dim,384], stddev=0.04 ,\n",
    "                                          lamb=0.004, bias = 0.1 )\n",
    "fc3 = tf.nn.relu(tf.add(tf.matmul(flatten, weight3) , bias3))\n",
    "\n",
    "weight4, bias4= weight_with_loss([384,192], stddev=0.04 ,\n",
    "                                          lamb=0.004, bias = 0.1 )\n",
    "fc4 = tf.nn.relu(tf.add(tf.matmul(fc3, weight4) , bias4))\n",
    "\n",
    "weight5, bias5= weight_with_loss([192,10], stddev=1/192.0 ,\n",
    "                                          lamb=0.0, bias = 0.0 )\n",
    "logits = tf.add(tf.matmul(fc4, weight5) , bias5)\n",
    "\n",
    "cross_entropy = loss(logits, label_holder)\n",
    "\n",
    "train_op = tf.train.AdamOptimizer(1e-3).minimize(cross_entropy)\n",
    "#top_one_op = tf.nn.in_top_k(logits, label_holder, 1)\n",
    "\n",
    "sess = tf.Session()\n",
    "#ini_op = tf.initialize_all_variables()\n",
    "#sess.run(ini_op)\n",
    "sess.run(tf.initialize_all_variables())\n",
    "\n",
    "\n",
    "#tf.train.start_queue_runners()\n"
   ]
  },
  {
   "cell_type": "code",
   "execution_count": null,
   "metadata": {
    "collapsed": true
   },
   "outputs": [],
   "source": []
  },
  {
   "cell_type": "code",
   "execution_count": null,
   "metadata": {
    "collapsed": true
   },
   "outputs": [],
   "source": []
  },
  {
   "cell_type": "code",
   "execution_count": null,
   "metadata": {
    "collapsed": true
   },
   "outputs": [],
   "source": []
  }
 ],
 "metadata": {
  "kernelspec": {
   "display_name": "Python 2",
   "language": "python",
   "name": "python2"
  },
  "language_info": {
   "codemirror_mode": {
    "name": "ipython",
    "version": 2
   },
   "file_extension": ".py",
   "mimetype": "text/x-python",
   "name": "python",
   "nbconvert_exporter": "python",
   "pygments_lexer": "ipython2",
   "version": "2.7.12"
  }
 },
 "nbformat": 4,
 "nbformat_minor": 1
}
